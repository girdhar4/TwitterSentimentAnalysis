{
  "nbformat": 4,
  "nbformat_minor": 0,
  "metadata": {
    "colab": {
      "name": "TwitterSentimentAnalysis.ipynb",
      "provenance": [],
      "collapsed_sections": [],
      "authorship_tag": "ABX9TyO1UkXbV5ou+SX7gAPeb+fV",
      "include_colab_link": true
    },
    "kernelspec": {
      "name": "python3",
      "display_name": "Python 3"
    },
    "language_info": {
      "name": "python"
    }
  },
  "cells": [
    {
      "cell_type": "markdown",
      "metadata": {
        "id": "view-in-github",
        "colab_type": "text"
      },
      "source": [
        "<a href=\"https://colab.research.google.com/github/girdhar4/TwitterSentimentAnalysis/blob/main/TwitterSentimentAnalysis.ipynb\" target=\"_parent\"><img src=\"https://colab.research.google.com/assets/colab-badge.svg\" alt=\"Open In Colab\"/></a>"
      ]
    },
    {
      "cell_type": "code",
      "metadata": {
        "id": "tK2oX3zsqt9f"
      },
      "source": [
        "# Import required libraries\n",
        "import re\n",
        "import numpy as np\n",
        "import pandas as pd\n",
        "import seaborn as sns\n",
        "from wordcloud import WordCloud\n",
        "import matplotlib.pyplot as plt\n",
        "from nltk.stem import WordNetLemmatizer\n",
        "from sklearn.svm import LinearSVC\n",
        "from sklearn.naive_bayes import BernoulliNB\n",
        "from sklearn.linear_model import LogisticRegression\n",
        "from sklearn.model_selection import train_test_split\n",
        "from sklearn.feature_extraction.text import TfidfVectorizer\n",
        "from sklearn.metrics import confusion_matrix, classification_report"
      ],
      "execution_count": null,
      "outputs": []
    },
    {
      "cell_type": "code",
      "metadata": {
        "colab": {
          "base_uri": "https://localhost:8080/"
        },
        "id": "MXmWDzloFRiV",
        "outputId": "60ba0b42-4548-4e11-f676-adadecb75ae2"
      },
      "source": [
        "# Loading data from Kaggle https://www.kaggle.com/kazanova/sentiment140 \n",
        "from google.colab import drive\n",
        "import os\n",
        "drive.mount('/content/gdrive')\n",
        "os.environ['KAGGLE_CONFIG_DIR'] = \"/content/gdrive/My Drive/Kaggle\""
      ],
      "execution_count": null,
      "outputs": [
        {
          "output_type": "stream",
          "text": [
            "Mounted at /content/gdrive\n"
          ],
          "name": "stdout"
        }
      ]
    },
    {
      "cell_type": "code",
      "metadata": {
        "colab": {
          "base_uri": "https://localhost:8080/"
        },
        "id": "NlzUVC-JFRmR",
        "outputId": "287ab7f9-4b23-4061-e768-f97989a28acb"
      },
      "source": [
        "%cd /content/gdrive/My Drive/Kaggle"
      ],
      "execution_count": null,
      "outputs": [
        {
          "output_type": "stream",
          "text": [
            "/content/gdrive/My Drive/Kaggle\n"
          ],
          "name": "stdout"
        }
      ]
    },
    {
      "cell_type": "code",
      "metadata": {
        "colab": {
          "base_uri": "https://localhost:8080/"
        },
        "id": "bPZzJhZuFRqg",
        "outputId": "9595280f-3152-4a63-8a04-3a01beab67aa"
      },
      "source": [
        "!kaggle datasets download -d kazanova/sentiment140\n",
        "!unzip \\*.zip  && rm *.zip"
      ],
      "execution_count": null,
      "outputs": [
        {
          "output_type": "stream",
          "text": [
            "Downloading sentiment140.zip to /content/gdrive/My Drive/Kaggle\n",
            " 90% 73.0M/80.9M [00:00<00:00, 95.6MB/s]\n",
            "100% 80.9M/80.9M [00:00<00:00, 119MB/s] \n",
            "Archive:  sentiment140.zip\n",
            "replace training.1600000.processed.noemoticon.csv? [y]es, [n]o, [A]ll, [N]one, [r]ename: n\n"
          ],
          "name": "stdout"
        }
      ]
    },
    {
      "cell_type": "code",
      "metadata": {
        "colab": {
          "base_uri": "https://localhost:8080/",
          "height": 203
        },
        "id": "RNkGE2V3FRuX",
        "outputId": "efd9d319-ab51-489a-b762-817f35c1d5e7"
      },
      "source": [
        "# Importing the dataset\n",
        "DATASET_COLUMNS=['target','ids','date','flag','user','text']\n",
        "DATASET_ENCODING = \"ISO-8859-1\"\n",
        "df = pd.read_csv('training.1600000.processed.noemoticon.csv', encoding=DATASET_ENCODING, names=DATASET_COLUMNS)\n",
        "df.sample(5)\n"
      ],
      "execution_count": null,
      "outputs": [
        {
          "output_type": "execute_result",
          "data": {
            "text/html": [
              "<div>\n",
              "<style scoped>\n",
              "    .dataframe tbody tr th:only-of-type {\n",
              "        vertical-align: middle;\n",
              "    }\n",
              "\n",
              "    .dataframe tbody tr th {\n",
              "        vertical-align: top;\n",
              "    }\n",
              "\n",
              "    .dataframe thead th {\n",
              "        text-align: right;\n",
              "    }\n",
              "</style>\n",
              "<table border=\"1\" class=\"dataframe\">\n",
              "  <thead>\n",
              "    <tr style=\"text-align: right;\">\n",
              "      <th></th>\n",
              "      <th>target</th>\n",
              "      <th>ids</th>\n",
              "      <th>date</th>\n",
              "      <th>flag</th>\n",
              "      <th>user</th>\n",
              "      <th>text</th>\n",
              "    </tr>\n",
              "  </thead>\n",
              "  <tbody>\n",
              "    <tr>\n",
              "      <th>339529</th>\n",
              "      <td>0</td>\n",
              "      <td>2014659151</td>\n",
              "      <td>Wed Jun 03 02:15:37 PDT 2009</td>\n",
              "      <td>NO_QUERY</td>\n",
              "      <td>lynchy010</td>\n",
              "      <td>[Gaming] Have to download MGO again. Last time...</td>\n",
              "    </tr>\n",
              "    <tr>\n",
              "      <th>549776</th>\n",
              "      <td>0</td>\n",
              "      <td>2202734270</td>\n",
              "      <td>Tue Jun 16 22:19:01 PDT 2009</td>\n",
              "      <td>NO_QUERY</td>\n",
              "      <td>randimichele</td>\n",
              "      <td>Ok honolulu... Its time to leave. Goodbye para...</td>\n",
              "    </tr>\n",
              "    <tr>\n",
              "      <th>1213911</th>\n",
              "      <td>4</td>\n",
              "      <td>1989398941</td>\n",
              "      <td>Mon Jun 01 01:23:44 PDT 2009</td>\n",
              "      <td>NO_QUERY</td>\n",
              "      <td>Taphophile_au</td>\n",
              "      <td>@sedroknits Thrift store - usually charity run...</td>\n",
              "    </tr>\n",
              "    <tr>\n",
              "      <th>566883</th>\n",
              "      <td>0</td>\n",
              "      <td>2206993688</td>\n",
              "      <td>Wed Jun 17 07:20:25 PDT 2009</td>\n",
              "      <td>NO_QUERY</td>\n",
              "      <td>jaredholdcroft</td>\n",
              "      <td>I changed jobs recently because I was pretty u...</td>\n",
              "    </tr>\n",
              "    <tr>\n",
              "      <th>1096544</th>\n",
              "      <td>4</td>\n",
              "      <td>1970323015</td>\n",
              "      <td>Sat May 30 03:23:20 PDT 2009</td>\n",
              "      <td>NO_QUERY</td>\n",
              "      <td>Camilla_C</td>\n",
              "      <td>...to the garden I go!  Hopefully by the next ...</td>\n",
              "    </tr>\n",
              "  </tbody>\n",
              "</table>\n",
              "</div>"
            ],
            "text/plain": [
              "         target  ...                                               text\n",
              "339529        0  ...  [Gaming] Have to download MGO again. Last time...\n",
              "549776        0  ...  Ok honolulu... Its time to leave. Goodbye para...\n",
              "1213911       4  ...  @sedroknits Thrift store - usually charity run...\n",
              "566883        0  ...  I changed jobs recently because I was pretty u...\n",
              "1096544       4  ...  ...to the garden I go!  Hopefully by the next ...\n",
              "\n",
              "[5 rows x 6 columns]"
            ]
          },
          "metadata": {
            "tags": []
          },
          "execution_count": 5
        }
      ]
    },
    {
      "cell_type": "code",
      "metadata": {
        "colab": {
          "base_uri": "https://localhost:8080/"
        },
        "id": "KSuBlEG6FRwP",
        "outputId": "ce9a7232-ccc2-49d0-eefd-d75f61a60dc4"
      },
      "source": [
        "# Eploratory Data Analysis\n",
        "print('length of data is', len(df)) # Print the length of the data\n",
        "df. shape # Checking the number of rows and columns"
      ],
      "execution_count": null,
      "outputs": [
        {
          "output_type": "stream",
          "text": [
            "length of data is 1600000\n"
          ],
          "name": "stdout"
        },
        {
          "output_type": "execute_result",
          "data": {
            "text/plain": [
              "(1600000, 6)"
            ]
          },
          "metadata": {
            "tags": []
          },
          "execution_count": 6
        }
      ]
    },
    {
      "cell_type": "code",
      "metadata": {
        "colab": {
          "base_uri": "https://localhost:8080/"
        },
        "id": "trW_ZycfFRyU",
        "outputId": "d65e2f7c-f7a3-4e0f-9322-0e4cb803341a"
      },
      "source": [
        "df.info() # Data Information "
      ],
      "execution_count": null,
      "outputs": [
        {
          "output_type": "stream",
          "text": [
            "<class 'pandas.core.frame.DataFrame'>\n",
            "RangeIndex: 1600000 entries, 0 to 1599999\n",
            "Data columns (total 6 columns):\n",
            " #   Column  Non-Null Count    Dtype \n",
            "---  ------  --------------    ----- \n",
            " 0   target  1600000 non-null  int64 \n",
            " 1   ids     1600000 non-null  int64 \n",
            " 2   date    1600000 non-null  object\n",
            " 3   flag    1600000 non-null  object\n",
            " 4   user    1600000 non-null  object\n",
            " 5   text    1600000 non-null  object\n",
            "dtypes: int64(2), object(4)\n",
            "memory usage: 73.2+ MB\n"
          ],
          "name": "stdout"
        }
      ]
    },
    {
      "cell_type": "code",
      "metadata": {
        "colab": {
          "base_uri": "https://localhost:8080/"
        },
        "id": "ah98BwIFFR0W",
        "outputId": "4b03ded0-20a6-4e51-8a87-96bc9fb43cc3"
      },
      "source": [
        "df.dtypes # Data type for all the columns"
      ],
      "execution_count": null,
      "outputs": [
        {
          "output_type": "execute_result",
          "data": {
            "text/plain": [
              "target     int64\n",
              "ids        int64\n",
              "date      object\n",
              "flag      object\n",
              "user      object\n",
              "text      object\n",
              "dtype: object"
            ]
          },
          "metadata": {
            "tags": []
          },
          "execution_count": 8
        }
      ]
    },
    {
      "cell_type": "code",
      "metadata": {
        "colab": {
          "base_uri": "https://localhost:8080/"
        },
        "id": "zKgYn_wWFR2T",
        "outputId": "13728b6a-5eec-4faf-f9f0-e2e0eb756726"
      },
      "source": [
        "np.sum(df.isnull().any(axis=1)) # Checking for null values"
      ],
      "execution_count": null,
      "outputs": [
        {
          "output_type": "execute_result",
          "data": {
            "text/plain": [
              "0"
            ]
          },
          "metadata": {
            "tags": []
          },
          "execution_count": 9
        }
      ]
    },
    {
      "cell_type": "code",
      "metadata": {
        "colab": {
          "base_uri": "https://localhost:8080/"
        },
        "id": "Kqjx9q66FR5y",
        "outputId": "93a49052-efb2-4b76-fb64-1738824a9bf7"
      },
      "source": [
        "df['target'].unique() # Unique target values"
      ],
      "execution_count": null,
      "outputs": [
        {
          "output_type": "execute_result",
          "data": {
            "text/plain": [
              "array([0, 4])"
            ]
          },
          "metadata": {
            "tags": []
          },
          "execution_count": 10
        }
      ]
    },
    {
      "cell_type": "code",
      "metadata": {
        "colab": {
          "base_uri": "https://localhost:8080/"
        },
        "id": "mqP3C3aNknWj",
        "outputId": "337e191f-de6f-434f-f0c0-aaf1d685a4bc"
      },
      "source": [
        "df['target'].nunique() # Number of Target Values"
      ],
      "execution_count": null,
      "outputs": [
        {
          "output_type": "execute_result",
          "data": {
            "text/plain": [
              "2"
            ]
          },
          "metadata": {
            "tags": []
          },
          "execution_count": 11
        }
      ]
    },
    {
      "cell_type": "code",
      "metadata": {
        "colab": {
          "base_uri": "https://localhost:8080/",
          "height": 295
        },
        "id": "1CqcNkXQkqph",
        "outputId": "ec646fb1-34fb-49b5-f3a4-c774e0c0ecd7"
      },
      "source": [
        "# Plotting the distribution for dataset.\n",
        "ax = df.groupby('target').count().plot(kind='bar', title='Distribution of data',legend=False)\n",
        "ax.set_xticklabels(['Negative','Positive'], rotation=0)\n",
        "# Storing data in lists.\n",
        "text, sentiment = list(df['text']), list(df['target'])"
      ],
      "execution_count": null,
      "outputs": [
        {
          "output_type": "display_data",
          "data": {
            "image/png": "[encoded data removed]",
            "text/plain": [
              "<Figure size 432x288 with 1 Axes>"
            ]
          },
          "metadata": {
            "tags": [],
            "needs_background": "light"
          }
        }
      ]
    },
    {
      "cell_type": "code",
      "metadata": {
        "colab": {
          "base_uri": "https://localhost:8080/",
          "height": 296
        },
        "id": "nb2a6iZGkui5",
        "outputId": "8cb58efd-cabb-467e-fae9-c88ffe21c634"
      },
      "source": [
        "import seaborn as sns\n",
        "sns.countplot(x='target', data=df)"
      ],
      "execution_count": null,
      "outputs": [
        {
          "output_type": "execute_result",
          "data": {
            "text/plain": [
              "<matplotlib.axes._subplots.AxesSubplot at 0x7f9d986d1c50>"
            ]
          },
          "metadata": {
            "tags": []
          },
          "execution_count": 13
        },
        {
          "output_type": "display_data",
          "data": {
            "image/png": "[encoded data removed]",
            "text/plain": [
              "<Figure size 432x288 with 1 Axes>"
            ]
          },
          "metadata": {
            "tags": [],
            "needs_background": "light"
          }
        }
      ]
    },
    {
      "cell_type": "code",
      "metadata": {
        "colab": {
          "base_uri": "https://localhost:8080/"
        },
        "id": "E0TBKeRukyrT",
        "outputId": "6888ab25-0c36-4b8c-90c9-6683aaa6d801"
      },
      "source": [
        "# Data Preprocessing\n",
        "\n",
        "# Selecting the text and the target column\n",
        "data=df[['text','target']]\n",
        "data['target'] = data['target'].replace(4,1) # Assigning 1 to positive sentiment 4\n",
        "data['target'].unique()"
      ],
      "execution_count": null,
      "outputs": [
        {
          "output_type": "stream",
          "text": [
            "/usr/local/lib/python3.7/dist-packages/ipykernel_launcher.py:5: SettingWithCopyWarning: \n",
            "A value is trying to be set on a copy of a slice from a DataFrame.\n",
            "Try using .loc[row_indexer,col_indexer] = value instead\n",
            "\n",
            "See the caveats in the documentation: https://pandas.pydata.org/pandas-docs/stable/user_guide/indexing.html#returning-a-view-versus-a-copy\n",
            "  \"\"\"\n"
          ],
          "name": "stderr"
        },
        {
          "output_type": "execute_result",
          "data": {
            "text/plain": [
              "array([0, 1])"
            ]
          },
          "metadata": {
            "tags": []
          },
          "execution_count": 14
        }
      ]
    },
    {
      "cell_type": "code",
      "metadata": {
        "colab": {
          "base_uri": "https://localhost:8080/"
        },
        "id": "dwquTnurxORA",
        "outputId": "80f51f1d-e400-41d2-a774-556143ecf06c"
      },
      "source": [
        "# Seperating Positive and Negative Tweets\n",
        "\n",
        "data_pos = data[data['target'] == 1]\n",
        "data_neg = data[data['target'] == 0]\n",
        "data_pos.shape"
      ],
      "execution_count": null,
      "outputs": [
        {
          "output_type": "execute_result",
          "data": {
            "text/plain": [
              "(800000, 2)"
            ]
          },
          "metadata": {
            "tags": []
          },
          "execution_count": 15
        }
      ]
    },
    {
      "cell_type": "code",
      "metadata": {
        "colab": {
          "base_uri": "https://localhost:8080/"
        },
        "id": "OhCRCp58xW6C",
        "outputId": "3c9aa99b-bd70-444c-a626-f147bdc60044"
      },
      "source": [
        "# Taking only 1/4th data and combing both the datasets\n",
        "data_pos = data_pos.iloc[:int(20000)]\n",
        "data_neg = data_neg.iloc[:int(20000)]\n",
        "dataset = pd.concat([data_pos, data_neg])\n",
        "dataset.shape"
      ],
      "execution_count": null,
      "outputs": [
        {
          "output_type": "execute_result",
          "data": {
            "text/plain": [
              "(40000, 2)"
            ]
          },
          "metadata": {
            "tags": []
          },
          "execution_count": 16
        }
      ]
    },
    {
      "cell_type": "code",
      "metadata": {
        "colab": {
          "base_uri": "https://localhost:8080/"
        },
        "id": "w6ccRdHk3B9u",
        "outputId": "2b32edc2-e6c2-4781-b8ed-b79bd7c25fcb"
      },
      "source": [
        "# Making Statement text in Lower Case\n",
        "dataset['text']=dataset['text'].str.lower()\n",
        "dataset['text'].tail()"
      ],
      "execution_count": null,
      "outputs": [
        {
          "output_type": "execute_result",
          "data": {
            "text/plain": [
              "19995    not much time off this weekend, work trip to m...\n",
              "19996                            one more day of holidays \n",
              "19997    feeling so down right now .. i hate you damn h...\n",
              "19998    geez,i hv to read the whole book of personalit...\n",
              "19999    i threw my sign at donnie and he bent over to ...\n",
              "Name: text, dtype: object"
            ]
          },
          "metadata": {
            "tags": []
          },
          "execution_count": 17
        }
      ]
    },
    {
      "cell_type": "code",
      "metadata": {
        "id": "9E3y8Ifu5G_S"
      },
      "source": [
        "stopwordlist = ['a', 'about', 'above', 'after', 'again', 'ain', 'all', 'am', 'an',\n",
        "             'and','any','are', 'as', 'at', 'be', 'because', 'been', 'before',\n",
        "             'being', 'below', 'between','both', 'by', 'can', 'd', 'did', 'do',\n",
        "             'does', 'doing', 'down', 'during', 'each','few', 'for', 'from',\n",
        "             'further', 'had', 'has', 'have', 'having', 'he', 'her', 'here',\n",
        "             'hers', 'herself', 'him', 'himself', 'his', 'how', 'i', 'if', 'in',\n",
        "             'into','is', 'it', 'its', 'itself', 'just', 'll', 'm', 'ma',\n",
        "             'me', 'more', 'most','my', 'myself', 'now', 'o', 'of', 'on', 'once',\n",
        "             'only', 'or', 'other', 'our', 'ours','ourselves', 'out', 'own', 're','s', 'same', 'she', \"shes\", 'should', \"shouldve\",'so', 'some', 'such',\n",
        "             't', 'than', 'that', \"thatll\", 'the', 'their', 'theirs', 'them',\n",
        "             'themselves', 'then', 'there', 'these', 'they', 'this', 'those',\n",
        "             'through', 'to', 'too','under', 'until', 'up', 've', 'very', 'was',\n",
        "             'we', 'were', 'what', 'when', 'where','which','while', 'who', 'whom',\n",
        "             'why', 'will', 'with', 'won', 'y', 'you', \"youd\",\"youll\", \"youre\",\n",
        "             \"youve\", 'your', 'yours', 'yourself', 'yourselves']"
      ],
      "execution_count": null,
      "outputs": []
    },
    {
      "cell_type": "code",
      "metadata": {
        "colab": {
          "base_uri": "https://localhost:8080/"
        },
        "id": "uKOUzbqocVpd",
        "outputId": "5cec0d57-70fb-4c76-d05c-18e676ee4619"
      },
      "source": [
        "# Removing the stop words defined above\n",
        "STOPWORDS = set(stopwordlist)\n",
        "def cleaning_stopwords(text):\n",
        "    return \" \".join([word for word in str(text).split() if word not in STOPWORDS])\n",
        "dataset['text'] = dataset['text'].apply(lambda text: cleaning_stopwords(text))\n",
        "dataset['text'].head()"
      ],
      "execution_count": null,
      "outputs": [
        {
          "output_type": "execute_result",
          "data": {
            "text/plain": [
              "800000                love @health4uandpets u guys r best!!\n",
              "800001    im meeting one besties tonight! cant wait!! - ...\n",
              "800002    @darealsunisakim thanks twitter add, sunisa! g...\n",
              "800003    sick really cheap hurts much eat real food plu...\n",
              "800004                      @lovesbrooklyn2 effect everyone\n",
              "Name: text, dtype: object"
            ]
          },
          "metadata": {
            "tags": []
          },
          "execution_count": 19
        }
      ]
    },
    {
      "cell_type": "code",
      "metadata": {
        "colab": {
          "base_uri": "https://localhost:8080/"
        },
        "id": "xIXsmDcjcfrw",
        "outputId": "dd58652e-c6d6-4f91-ba8b-f8bc01c4301a"
      },
      "source": [
        "# Removing Punctuation\n",
        "import string\n",
        "english_punctuations = string.punctuation\n",
        "punctuations_list = english_punctuations\n",
        "def cleaning_punctuations(text):\n",
        "    translator = str.maketrans('', '', punctuations_list)\n",
        "    return text.translate(translator)\n",
        "dataset['text']= dataset['text'].apply(lambda x: cleaning_punctuations(x))\n",
        "dataset['text'].tail()"
      ],
      "execution_count": null,
      "outputs": [
        {
          "output_type": "execute_result",
          "data": {
            "text/plain": [
              "19995    not much time off weekend work trip malmï¿½ fr...\n",
              "19996                                     one day holidays\n",
              "19997                     feeling right  hate damn humprey\n",
              "19998    geezi hv read whole book personality types emb...\n",
              "19999    threw sign donnie bent over get but thingee ma...\n",
              "Name: text, dtype: object"
            ]
          },
          "metadata": {
            "tags": []
          },
          "execution_count": 20
        }
      ]
    },
    {
      "cell_type": "code",
      "metadata": {
        "colab": {
          "base_uri": "https://localhost:8080/"
        },
        "id": "jKu8uV4Hck5D",
        "outputId": "9b171a61-a43d-4902-98d7-53e1595b5624"
      },
      "source": [
        "# Clean and Remove Repeating Characters\n",
        "def cleaning_repeating_char(text):\n",
        "    return re.sub(r'(.)1+', r'1', text)\n",
        "dataset['text'] = dataset['text'].apply(lambda x: cleaning_repeating_char(x))\n",
        "dataset['text'].tail()"
      ],
      "execution_count": null,
      "outputs": [
        {
          "output_type": "execute_result",
          "data": {
            "text/plain": [
              "19995    not much time off weekend work trip malmï¿½ fr...\n",
              "19996                                     one day holidays\n",
              "19997                     feeling right  hate damn humprey\n",
              "19998    geezi hv read whole book personality types emb...\n",
              "19999    threw sign donnie bent over get but thingee ma...\n",
              "Name: text, dtype: object"
            ]
          },
          "metadata": {
            "tags": []
          },
          "execution_count": 21
        }
      ]
    },
    {
      "cell_type": "code",
      "metadata": {
        "colab": {
          "base_uri": "https://localhost:8080/"
        },
        "id": "hkjCsKvlcrKZ",
        "outputId": "98812b28-2569-48cb-f3fa-07d70aa3a9ed"
      },
      "source": [
        "# Remove URLs\n",
        "def cleaning_URLs(data):\n",
        "    return re.sub('((www.[^s]+)|(https?://[^s]+))',' ',data)\n",
        "dataset['text'] = dataset['text'].apply(lambda x: cleaning_URLs(x))\n",
        "dataset['text'].tail()"
      ],
      "execution_count": null,
      "outputs": [
        {
          "output_type": "execute_result",
          "data": {
            "text/plain": [
              "19995    not much time off weekend work trip malmï¿½ fr...\n",
              "19996                                     one day holidays\n",
              "19997                     feeling right  hate damn humprey\n",
              "19998    geezi hv read whole book personality types emb...\n",
              "19999    threw sign donnie bent over get but thingee ma...\n",
              "Name: text, dtype: object"
            ]
          },
          "metadata": {
            "tags": []
          },
          "execution_count": 22
        }
      ]
    },
    {
      "cell_type": "code",
      "metadata": {
        "colab": {
          "base_uri": "https://localhost:8080/"
        },
        "id": "zZdMyUqAcuim",
        "outputId": "e5d76cd8-9b4b-4782-bb86-2c49dcf7f9ee"
      },
      "source": [
        "# Remove Numeric Numbers\n",
        "def cleaning_numbers(data):\n",
        "    return re.sub('[0-9]+', '', data)\n",
        "dataset['text'] = dataset['text'].apply(lambda x: cleaning_numbers(x))\n",
        "dataset['text'].tail()"
      ],
      "execution_count": null,
      "outputs": [
        {
          "output_type": "execute_result",
          "data": {
            "text/plain": [
              "19995    not much time off weekend work trip malmï¿½ fr...\n",
              "19996                                     one day holidays\n",
              "19997                     feeling right  hate damn humprey\n",
              "19998    geezi hv read whole book personality types emb...\n",
              "19999    threw sign donnie bent over get but thingee ma...\n",
              "Name: text, dtype: object"
            ]
          },
          "metadata": {
            "tags": []
          },
          "execution_count": 23
        }
      ]
    },
    {
      "cell_type": "code",
      "metadata": {
        "colab": {
          "base_uri": "https://localhost:8080/"
        },
        "id": "h9AjWI4vc0vg",
        "outputId": "1b99b875-1d7f-4a9c-90e7-522921beab54"
      },
      "source": [
        "# Tokenization of Tweet text\n",
        "#from nltk.tokenize import RegexpTokenizer\n",
        "from nltk.tokenize import RegexpTokenizer\n",
        "tokenizer = RegexpTokenizer(r'\\w+')\n",
        "dataset['text'] = dataset['text'].apply(tokenizer.tokenize)\n",
        "dataset['text'].head()"
      ],
      "execution_count": null,
      "outputs": [
        {
          "output_type": "execute_result",
          "data": {
            "text/plain": [
              "800000             [love, healthuandpets, u, guys, r, best]\n",
              "800001    [im, meeting, one, besties, tonight, cant, wai...\n",
              "800002    [darealsunisakim, thanks, twitter, add, sunisa...\n",
              "800003    [sick, really, cheap, hurts, much, eat, real, ...\n",
              "800004                    [lovesbrooklyn, effect, everyone]\n",
              "Name: text, dtype: object"
            ]
          },
          "metadata": {
            "tags": []
          },
          "execution_count": 24
        }
      ]
    },
    {
      "cell_type": "code",
      "metadata": {
        "colab": {
          "base_uri": "https://localhost:8080/"
        },
        "id": "2r3zMfHuc5qP",
        "outputId": "e92196a4-58ec-4a21-b9c0-ffef45c8d639"
      },
      "source": [
        "# Applying Stemming\n",
        "import nltk\n",
        "st = nltk.PorterStemmer()\n",
        "def stemming_on_text(data):\n",
        "    text = [st.stem(word) for word in data]\n",
        "    return data\n",
        "dataset['text']= dataset['text'].apply(lambda x: stemming_on_text(x))\n",
        "dataset['text'].head()"
      ],
      "execution_count": null,
      "outputs": [
        {
          "output_type": "execute_result",
          "data": {
            "text/plain": [
              "800000             [love, healthuandpets, u, guys, r, best]\n",
              "800001    [im, meeting, one, besties, tonight, cant, wai...\n",
              "800002    [darealsunisakim, thanks, twitter, add, sunisa...\n",
              "800003    [sick, really, cheap, hurts, much, eat, real, ...\n",
              "800004                    [lovesbrooklyn, effect, everyone]\n",
              "Name: text, dtype: object"
            ]
          },
          "metadata": {
            "tags": []
          },
          "execution_count": 25
        }
      ]
    },
    {
      "cell_type": "code",
      "metadata": {
        "colab": {
          "base_uri": "https://localhost:8080/"
        },
        "id": "gbjRksS5pqY7",
        "outputId": "b77648ea-84c5-4cdb-cc81-bf69f087f8fe"
      },
      "source": [
        "nltk.download('wordnet')"
      ],
      "execution_count": null,
      "outputs": [
        {
          "output_type": "stream",
          "text": [
            "[nltk_data] Downloading package wordnet to /root/nltk_data...\n",
            "[nltk_data]   Unzipping corpora/wordnet.zip.\n"
          ],
          "name": "stdout"
        },
        {
          "output_type": "execute_result",
          "data": {
            "text/plain": [
              "True"
            ]
          },
          "metadata": {
            "tags": []
          },
          "execution_count": 26
        }
      ]
    },
    {
      "cell_type": "code",
      "metadata": {
        "colab": {
          "base_uri": "https://localhost:8080/"
        },
        "id": "hCZrq4OjpQTk",
        "outputId": "5cf8ebde-dd05-4a9a-df4c-28e8a2dedcba"
      },
      "source": [
        "# Applying Lemmatizer\n",
        "lm = nltk.WordNetLemmatizer()\n",
        "def lemmatizer_on_text(data):\n",
        "    text = [lm.lemmatize(word) for word in data]\n",
        "    return data\n",
        "dataset['text'] = dataset['text'].apply(lambda x: lemmatizer_on_text(x))\n",
        "dataset['text'].head()"
      ],
      "execution_count": null,
      "outputs": [
        {
          "output_type": "execute_result",
          "data": {
            "text/plain": [
              "800000             [love, healthuandpets, u, guys, r, best]\n",
              "800001    [im, meeting, one, besties, tonight, cant, wai...\n",
              "800002    [darealsunisakim, thanks, twitter, add, sunisa...\n",
              "800003    [sick, really, cheap, hurts, much, eat, real, ...\n",
              "800004                    [lovesbrooklyn, effect, everyone]\n",
              "Name: text, dtype: object"
            ]
          },
          "metadata": {
            "tags": []
          },
          "execution_count": 27
        }
      ]
    },
    {
      "cell_type": "code",
      "metadata": {
        "id": "X2NJz44MpWZ3"
      },
      "source": [
        "# Seperate Input feature and Label\n",
        "X=data.text\n",
        "y=data.target"
      ],
      "execution_count": null,
      "outputs": []
    },
    {
      "cell_type": "code",
      "metadata": {
        "id": "OyRcVzkMpyt9"
      },
      "source": [
        "# Splitting Data into training and testing subset\n",
        "X_train, X_test, y_train, y_test = train_test_split(X,y,test_size = 0.05, random_state =26105111)\n"
      ],
      "execution_count": null,
      "outputs": []
    },
    {
      "cell_type": "code",
      "metadata": {
        "colab": {
          "base_uri": "https://localhost:8080/"
        },
        "id": "3SuSrNuVp_8f",
        "outputId": "a5f1c2ec-bf00-4eb3-bf37-dfff77aa9a25"
      },
      "source": [
        "# Transform dataset using TF-IDF vectorizer\n",
        "# Fitting the TF-IDF Vector\n",
        "vectoriser = TfidfVectorizer(ngram_range=(1,2), max_features=500000)\n",
        "vectoriser.fit(X_train)\n",
        "print('No. of feature_words: ', len(vectoriser.get_feature_names()))"
      ],
      "execution_count": null,
      "outputs": [
        {
          "output_type": "stream",
          "text": [
            "No. of feature_words:  500000\n"
          ],
          "name": "stdout"
        }
      ]
    },
    {
      "cell_type": "code",
      "metadata": {
        "id": "aZ5SwqTMrc7M"
      },
      "source": [
        "# Transform the data\n",
        "X_train = vectoriser.transform(X_train)\n",
        "X_test  = vectoriser.transform(X_test)"
      ],
      "execution_count": null,
      "outputs": []
    },
    {
      "cell_type": "code",
      "metadata": {
        "id": "IcLBMxVAr5oD"
      },
      "source": [
        "# Model Evaluation\n",
        "def model_Evaluate(model):\n",
        "# Predict values for Test dataset\n",
        "  y_pred = model.predict(X_test)\n",
        "  # Print the evaluation metrics for the dataset.\n",
        "  print(classification_report(y_test, y_pred))\n",
        "  # Compute and plot the Confusion matrix\n",
        "  cf_matrix = confusion_matrix(y_test, y_pred)\n",
        "  categories = ['Negative','Positive']\n",
        "  group_names = ['True Neg','False Pos', 'False Neg','True Pos']\n",
        "  group_percentages = ['{0:.2%}'.format(value) for value in cf_matrix.flatten() / np.sum(cf_matrix)]\n",
        "  labels = [f'{v1}n{v2}' for v1, v2 in zip(group_names,group_percentages)]\n",
        "  labels = np.asarray(labels).reshape(2,2)\n",
        "  sns.heatmap(cf_matrix, annot = labels, cmap = 'Blues',fmt = '',\n",
        "  xticklabels = categories, yticklabels = categories)\n",
        "  plt.xlabel(\"Predicted values\", fontdict = {'size':14}, labelpad = 10) \n",
        "  plt.ylabel(\"Actual values\" , fontdict = {'size':14}, labelpad = 10)\n",
        "  plt.title (\"Confusion Matrix\", fontdict = {'size':18}, pad = 20)"
      ],
      "execution_count": null,
      "outputs": []
    },
    {
      "cell_type": "code",
      "metadata": {
        "colab": {
          "base_uri": "https://localhost:8080/",
          "height": 474
        },
        "id": "vPYh-8WFskv6",
        "outputId": "df5ce1b4-3420-4700-cca1-f3e3e24ee8d9"
      },
      "source": [
        "# Model Building --> Model1 --> Bernoulli Naive Bayes\n",
        "BNBmodel = BernoulliNB()\n",
        "BNBmodel.fit(X_train, y_train)\n",
        "model_Evaluate(BNBmodel)\n",
        "y_pred1 = BNBmodel.predict(X_test)"
      ],
      "execution_count": null,
      "outputs": [
        {
          "output_type": "stream",
          "text": [
            "              precision    recall  f1-score   support\n",
            "\n",
            "           0       0.81      0.79      0.80     40100\n",
            "           1       0.80      0.81      0.80     39900\n",
            "\n",
            "    accuracy                           0.80     80000\n",
            "   macro avg       0.80      0.80      0.80     80000\n",
            "weighted avg       0.80      0.80      0.80     80000\n",
            "\n"
          ],
          "name": "stdout"
        },
        {
          "output_type": "display_data",
          "data": {
            "image/png": "[encoded data removed]",
            "text/plain": [
              "<Figure size 432x288 with 2 Axes>"
            ]
          },
          "metadata": {
            "tags": [],
            "needs_background": "light"
          }
        }
      ]
    },
    {
      "cell_type": "code",
      "metadata": {
        "colab": {
          "base_uri": "https://localhost:8080/",
          "height": 295
        },
        "id": "l4bEf5mjss6d",
        "outputId": "0b7140e0-fde4-4514-daaf-c65a0922c0d3"
      },
      "source": [
        "# ROC-AUC Curve\n",
        "from sklearn.metrics import roc_curve, auc\n",
        "fpr, tpr, thresholds = roc_curve(y_test, y_pred1)\n",
        "roc_auc = auc(fpr, tpr)\n",
        "plt.figure()\n",
        "plt.plot(fpr, tpr, color='darkorange', lw=1, label='ROC curve (area = %0.2f)' % roc_auc)\n",
        "plt.xlim([0.0, 1.0])\n",
        "plt.ylim([0.0, 1.05])\n",
        "plt.xlabel('False Positive Rate')\n",
        "plt.ylabel('True Positive Rate')\n",
        "plt.title('ROC CURVE')\n",
        "plt.legend(loc=\"lower right\")\n",
        "plt.show()"
      ],
      "execution_count": null,
      "outputs": [
        {
          "output_type": "display_data",
          "data": {
            "image/png": "[encoded data removed]",
            "text/plain": [
              "<Figure size 432x288 with 1 Axes>"
            ]
          },
          "metadata": {
            "tags": [],
            "needs_background": "light"
          }
        }
      ]
    },
    {
      "cell_type": "code",
      "metadata": {
        "colab": {
          "base_uri": "https://localhost:8080/",
          "height": 474
        },
        "id": "_DnoaIicszGN",
        "outputId": "dee88ce1-f8ea-4810-b625-76e201fdcca9"
      },
      "source": [
        "#SV Model \n",
        "SVCmodel = LinearSVC()\n",
        "SVCmodel.fit(X_train, y_train)\n",
        "model_Evaluate(SVCmodel)\n",
        "y_pred2 = SVCmodel.predict(X_test)"
      ],
      "execution_count": null,
      "outputs": [
        {
          "output_type": "stream",
          "text": [
            "              precision    recall  f1-score   support\n",
            "\n",
            "           0       0.82      0.81      0.81     40100\n",
            "           1       0.81      0.82      0.82     39900\n",
            "\n",
            "    accuracy                           0.82     80000\n",
            "   macro avg       0.82      0.82      0.82     80000\n",
            "weighted avg       0.82      0.82      0.82     80000\n",
            "\n"
          ],
          "name": "stdout"
        },
        {
          "output_type": "display_data",
          "data": {
            "image/png": "[encoded data removed]",
            "text/plain": [
              "<Figure size 432x288 with 2 Axes>"
            ]
          },
          "metadata": {
            "tags": [],
            "needs_background": "light"
          }
        }
      ]
    },
    {
      "cell_type": "code",
      "metadata": {
        "id": "Pg2cYVhQycjP"
      },
      "source": [
        ""
      ],
      "execution_count": null,
      "outputs": []
    }
  ]
}